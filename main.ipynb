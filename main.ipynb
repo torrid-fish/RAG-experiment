{
 "cells": [
  {
   "cell_type": "markdown",
   "metadata": {},
   "source": [
    "# Preprocess data into Vector DataBase"
   ]
  },
  {
   "cell_type": "markdown",
   "metadata": {},
   "source": [
    "First step is to process data into vectordb, so that we can create a retirever to load the data."
   ]
  },
  {
   "cell_type": "markdown",
   "metadata": {},
   "source": [
    "### Load the data\n",
    "There are many loaders being supported in langchain. I choose PDF loader here."
   ]
  },
  {
   "cell_type": "code",
   "execution_count": 6,
   "metadata": {},
   "outputs": [],
   "source": [
    "from langchain.document_loaders import PyMuPDFLoader\n",
    "path=\"道路交通安全規則.pdf\"\n",
    "loader = PyMuPDFLoader(path)\n",
    "pdf_data = loader.load()\n",
    "\n",
    "# Use the RecursiveCharacterTextSplitter to split the text into chunks\n",
    "from langchain.text_splitter import RecursiveCharacterTextSplitter\n",
    "text_splitter = RecursiveCharacterTextSplitter(chunk_size=100, chunk_overlap=5)\n",
    "all_splits = text_splitter.split_documents(pdf_data)"
   ]
  },
  {
   "cell_type": "markdown",
   "metadata": {},
   "source": [
    "### Embedding Model"
   ]
  },
  {
   "cell_type": "markdown",
   "metadata": {},
   "source": [
    "There are many embedding models, I choose two embedding models to conduct the experiment:\n",
    "- `text-embedding-3-small`: Charged\n",
    "- `all-MiniLM-L6-v2`: Free"
   ]
  },
  {
   "cell_type": "code",
   "execution_count": 7,
   "metadata": {},
   "outputs": [],
   "source": [
    "embedding_name = \"text-embedding-3-small\"\n",
    "\n",
    "if embedding_name == \"text-embedding-3-small\":\n",
    "    from key import API_KEY\n",
    "    from langchain.embeddings import OpenAIEmbeddings\n",
    "    import os\n",
    "    os.environ[\"OPENAI_API_KEY\"] = API_KEY\n",
    "    embedding_openai = OpenAIEmbeddings(model=\"text-embedding-3-small\")\n",
    "elif embedding_name == \"all-MiniLM-L6-v2\":\n",
    "    from langchain.embeddings import HuggingFaceEmbeddings\n",
    "    model_name = \"sentence-transformers/all-MiniLM-L6-v2\"\n",
    "    model_kwargs = {'device': 'cpu'}\n",
    "    embedding = HuggingFaceEmbeddings(model_name=model_name,\n",
    "                                    model_kwargs=model_kwargs)\n",
    "else:\n",
    "    raise NotImplementedError"
   ]
  },
  {
   "cell_type": "markdown",
   "metadata": {},
   "source": [
    "### Create the vector database"
   ]
  },
  {
   "cell_type": "code",
   "execution_count": 8,
   "metadata": {},
   "outputs": [],
   "source": [
    "from langchain.vectorstores import Chroma\n",
    "persist_directory = 'db'\n",
    "vectordb = Chroma.from_documents(documents=all_splits, embedding=embedding, persist_directory=persist_directory)"
   ]
  },
  {
   "cell_type": "markdown",
   "metadata": {},
   "source": [
    "## Language Model\n",
    "Here we use the api service provided by `llamafactory-cli` to hold our LLM.\n",
    "\n",
    "Use the following command to setup the service:\n",
    "```\n",
    "API_PORT=8000 llamafactory-cli api model_info.yaml\n",
    "```"
   ]
  },
  {
   "cell_type": "markdown",
   "metadata": {},
   "source": [
    "After we've create the host, we can use `ChatOpenAI` to get the output.\n",
    "\n",
    "To combine llm with langchain, the office suggests us to use [LCEL (LangChain Expression Language)](https://python.langchain.com/v0.1/docs/expression_language/) to formualate the chain."
   ]
  },
  {
   "cell_type": "code",
   "execution_count": 22,
   "metadata": {},
   "outputs": [
    {
     "name": "stdout",
     "output_type": "stream",
     "text": [
      "Traditional Chinese translation:\n",
      "\n",
      "好久不見！今天真好！\n"
     ]
    }
   ],
   "source": [
    "from langchain_openai import ChatOpenAI\n",
    "from langchain_core.output_parsers import StrOutputParser\n",
    "\n",
    "llm = ChatOpenAI(\n",
    "    openai_api_key='None', \n",
    "    openai_api_base='http://0.0.0.0:8000/v1',\n",
    "    temperature=0.5,    \n",
    ")\n",
    "\n",
    "messages = [\n",
    "    (\n",
    "        \"system\",\n",
    "        \"You are a helpful assistant that translates English to Traditional Chinese. Translate the user sentence.\",\n",
    "    ),\n",
    "    (\"human\", \"Nice to meet you! What a wonderful day!\"),\n",
    "]\n",
    "\n",
    "# LECL example\n",
    "chain = (\n",
    "    llm # The OpenAI model\n",
    "    | StrOutputParser() # Parse the output of the OpenAI model\n",
    ")\n",
    "\n",
    "print(chain.invoke(messages))"
   ]
  },
  {
   "cell_type": "markdown",
   "metadata": {},
   "source": [
    "## Normal LLM versus RAG"
   ]
  },
  {
   "cell_type": "markdown",
   "metadata": {},
   "source": [
    "First, is the chain of normal LLM.\n",
    "\n",
    "We only apply template and output parser before and after the inference of llm."
   ]
  },
  {
   "cell_type": "code",
   "execution_count": 23,
   "metadata": {},
   "outputs": [],
   "source": [
    "from langchain_openai import ChatOpenAI\n",
    "from langchain_core.output_parsers import StrOutputParser\n",
    "from langchain_core.prompts import ChatPromptTemplate\n",
    "from langchain_core.runnables import RunnablePassthrough, RunnableLambda\n",
    "\n",
    "llm = ChatOpenAI(\n",
    "    openai_api_key='None', \n",
    "    openai_api_base='http://0.0.0.0:8000/v1',\n",
    "    temperature=0\n",
    ")\n",
    "\n",
    "template = \"\"\"Answer the following questions. If you don't know the answer, please say \"I don't know\".\n",
    "---\n",
    "Question {question}\n",
    "\"\"\"\n",
    "\n",
    "template = ChatPromptTemplate.from_template(template)\n",
    "\n",
    "def log_prompt(prompt):\n",
    "    # Print the prompt in green\n",
    "    print(\"\\033[92m{}\\033[00m\".format(prompt.to_string().replace(\"human: \", \"\")))  \n",
    "    return prompt\n",
    "\n",
    "normal_chain = (\n",
    "    {\"question\": RunnablePassthrough()}\n",
    "    | template\n",
    "    | RunnableLambda(log_prompt)\n",
    "    | llm\n",
    "    | StrOutputParser()\n",
    ")"
   ]
  },
  {
   "cell_type": "markdown",
   "metadata": {},
   "source": [
    "Second, is the implementation of RAG.\n",
    "\n",
    "Apart from what we've done, we also create a retriever when we get the user's input. \n",
    "\n",
    "Then we provide the infomation into the prompt, so that models can response better."
   ]
  },
  {
   "cell_type": "code",
   "execution_count": 24,
   "metadata": {},
   "outputs": [],
   "source": [
    "from langchain_openai import ChatOpenAI\n",
    "from langchain_core.output_parsers import StrOutputParser\n",
    "from langchain_core.prompts import ChatPromptTemplate\n",
    "from langchain_core.runnables import RunnablePassthrough, RunnableLambda\n",
    "\n",
    "retriever = vectordb.as_retriever()\n",
    "\n",
    "llm = ChatOpenAI(\n",
    "    openai_api_key='None', \n",
    "    openai_api_base='http://0.0.0.0:8000/v1',\n",
    "    temperature=0\n",
    ")\n",
    "\n",
    "template = \"\"\"Answer the following questions with the extra infomation below. If you don't know the answer, please say \"I don't know\".\n",
    "\n",
    "Extra information:\n",
    "```\n",
    "{context}\n",
    "```\n",
    "\n",
    "---\n",
    "Question {question}\n",
    "\"\"\"\n",
    "\n",
    "template = ChatPromptTemplate.from_template(template)\n",
    "\n",
    "def log_prompt(prompt):\n",
    "    # Print the prompt in green\n",
    "    print(\"\\033[92m{}\\033[00m\".format(prompt.to_string().replace(\"human: \", \"\")))  \n",
    "    return prompt\n",
    "\n",
    "def doc_format(docs):\n",
    "    return \"\\n\\n\".join(doc.page_content for doc in docs)\n",
    "\n",
    "rag_chain = (\n",
    "    {\"question\": RunnablePassthrough(), \"context\": retriever | doc_format} \n",
    "    | template\n",
    "    | RunnableLambda(log_prompt)\n",
    "    | llm\n",
    "    | StrOutputParser()\n",
    ")"
   ]
  },
  {
   "cell_type": "markdown",
   "metadata": {},
   "source": [
    "Let's take a look of the result:"
   ]
  },
  {
   "cell_type": "code",
   "execution_count": 25,
   "metadata": {},
   "outputs": [
    {
     "name": "stdout",
     "output_type": "stream",
     "text": [
      "\u001b[92mHuman: Answer the following questions. If you don't know the answer, please say \"I don't know\".\n",
      "---\n",
      "Question 請問大貨車載運劇團道具附載演員不得超過幾人呢？\n",
      "\u001b[00m\n",
      "I don't know\n"
     ]
    }
   ],
   "source": [
    "question = \"請問大貨車載運劇團道具附載演員不得超過幾人呢？\"\n",
    "print(normal_chain.invoke(question))"
   ]
  },
  {
   "cell_type": "code",
   "execution_count": 26,
   "metadata": {},
   "outputs": [
    {
     "name": "stdout",
     "output_type": "stream",
     "text": [
      "\u001b[92mHuman: Answer the following questions with the extra infomation below. If you don't know the answer, please say \"I don't know\".\n",
      "\n",
      "Extra information:\n",
      "```\n",
      "三、漁民攜帶大型捕魚工具，非客車所能容納者，搭載大貨車不得超過十六人，小貨車不得超過\n",
      "八人。\n",
      "四、大貨車載運劇團道具附載演員不得超過十六人，小貨車不得超過八人。\n",
      "\n",
      "三、漁民攜帶大型捕魚工具，非客車所能容納者，搭載大貨車不得超過十六人，小貨車不得超過\n",
      "八人。\n",
      "四、大貨車載運劇團道具附載演員不得超過十六人，小貨車不得超過八人。\n",
      "\n",
      "五、大貨車載運魚苗附載拍水人員不得超過十二人。\n",
      "六、大貨車載運棺柩附載人員不得超過十六人。\n",
      "七、大貨車載運神轎附載人員不得超過十六人。\n",
      "\n",
      "五、大貨車載運魚苗附載拍水人員不得超過十二人。\n",
      "六、大貨車載運棺柩附載人員不得超過十六人。\n",
      "七、大貨車載運神轎附載人員不得超過十六人。\n",
      "```\n",
      "\n",
      "---\n",
      "Question 請問大貨車載運劇團道具附載演員不得超過幾人呢？\n",
      "\u001b[00m\n",
      "根據提供的資訊，大貨車載運劇團道具附載演員不得超過十六人。\n"
     ]
    }
   ],
   "source": [
    "question = \"請問大貨車載運劇團道具附載演員不得超過幾人呢？\"\n",
    "print(rag_chain.invoke(question))"
   ]
  }
 ],
 "metadata": {
  "kernelspec": {
   "display_name": "env",
   "language": "python",
   "name": "python3"
  },
  "language_info": {
   "codemirror_mode": {
    "name": "ipython",
    "version": 3
   },
   "file_extension": ".py",
   "mimetype": "text/x-python",
   "name": "python",
   "nbconvert_exporter": "python",
   "pygments_lexer": "ipython3",
   "version": "3.12.1"
  }
 },
 "nbformat": 4,
 "nbformat_minor": 2
}
