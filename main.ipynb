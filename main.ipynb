{
 "cells": [
  {
   "cell_type": "markdown",
   "metadata": {},
   "source": [
    "# Preprocess data into Vector DataBase"
   ]
  },
  {
   "cell_type": "markdown",
   "metadata": {},
   "source": [
    "First step is to process data into vectordb, so that we can create a retirever to load the data."
   ]
  },
  {
   "cell_type": "markdown",
   "metadata": {},
   "source": [
    "### Load the data\n",
    "There are many loaders being supported in langchain. I choose PDF loader here."
   ]
  },
  {
   "cell_type": "code",
   "execution_count": 1,
   "metadata": {},
   "outputs": [],
   "source": [
    "from langchain.document_loaders import PyMuPDFLoader\n",
    "path=\"data/道路交通安全規則.pdf\"\n",
    "loader = PyMuPDFLoader(path)\n",
    "pdf_data = loader.load()\n",
    "\n",
    "# Use the RecursiveCharacterTextSplitter to split the text into chunks\n",
    "from langchain.text_splitter import RecursiveCharacterTextSplitter\n",
    "text_splitter = RecursiveCharacterTextSplitter(chunk_size=100, chunk_overlap=5)\n",
    "all_splits = text_splitter.split_documents(pdf_data)"
   ]
  },
  {
   "cell_type": "markdown",
   "metadata": {},
   "source": [
    "### Embedding Model"
   ]
  },
  {
   "cell_type": "markdown",
   "metadata": {},
   "source": [
    "There are many embedding models, I choose two embedding models to conduct the experiment:\n",
    "- `text-embedding-3-small`: Charged\n",
    "- `all-MiniLM-L6-v2`: Free"
   ]
  },
  {
   "cell_type": "code",
   "execution_count": 2,
   "metadata": {},
   "outputs": [
    {
     "name": "stderr",
     "output_type": "stream",
     "text": [
      "/tmp/ipykernel_3148087/3204744953.py:13: LangChainDeprecationWarning: The class `HuggingFaceEmbeddings` was deprecated in LangChain 0.2.2 and will be removed in 1.0. An updated version of the class exists in the langchain-huggingface package and should be used instead. To use it run `pip install -U langchain-huggingface` and import as `from langchain_huggingface import HuggingFaceEmbeddings`.\n",
      "  embedding = HuggingFaceEmbeddings(model_name=model_name,\n",
      "/home/torridfish/RAG-experiment/env/lib/python3.12/site-packages/sentence_transformers/cross_encoder/CrossEncoder.py:11: TqdmExperimentalWarning: Using `tqdm.autonotebook.tqdm` in notebook mode. Use `tqdm.tqdm` instead to force console mode (e.g. in jupyter console)\n",
      "  from tqdm.autonotebook import tqdm, trange\n",
      "/home/torridfish/RAG-experiment/env/lib/python3.12/site-packages/transformers/tokenization_utils_base.py:1601: FutureWarning: `clean_up_tokenization_spaces` was not set. It will be set to `True` by default. This behavior will be depracted in transformers v4.45, and will be then set to `False` by default. For more details check this issue: https://github.com/huggingface/transformers/issues/31884\n",
      "  warnings.warn(\n"
     ]
    }
   ],
   "source": [
    "embedding_name = \"all-MiniLM-L6-v2\"\n",
    "\n",
    "if embedding_name == \"text-embedding-3-small\":\n",
    "    from key import API_KEY\n",
    "    from langchain.embeddings import OpenAIEmbeddings\n",
    "    import os\n",
    "    os.environ[\"OPENAI_API_KEY\"] = API_KEY\n",
    "    embedding = OpenAIEmbeddings(model=\"text-embedding-3-small\")\n",
    "elif embedding_name == \"all-MiniLM-L6-v2\":\n",
    "    from langchain.embeddings import HuggingFaceEmbeddings\n",
    "    model_name = \"sentence-transformers/all-MiniLM-L6-v2\"\n",
    "    model_kwargs = {'device': 'cpu'}\n",
    "    embedding = HuggingFaceEmbeddings(model_name=model_name,\n",
    "                                    model_kwargs=model_kwargs)\n",
    "else:\n",
    "    raise NotImplementedError"
   ]
  },
  {
   "cell_type": "markdown",
   "metadata": {},
   "source": [
    "### Create the vector database"
   ]
  },
  {
   "cell_type": "code",
   "execution_count": 3,
   "metadata": {},
   "outputs": [],
   "source": [
    "from langchain.vectorstores import Chroma\n",
    "persist_directory = 'db'\n",
    "vectordb = Chroma.from_documents(documents=all_splits, embedding=embedding, persist_directory=persist_directory)"
   ]
  },
  {
   "cell_type": "markdown",
   "metadata": {},
   "source": [
    "## Language Model\n",
    "Here we use the api service provided by `llamafactory-cli` to hold our LLM.\n",
    "\n",
    "Use the following command to setup the service:\n",
    "```\n",
    "API_PORT=8000 llamafactory-cli api model_info.yaml\n",
    "```"
   ]
  },
  {
   "cell_type": "markdown",
   "metadata": {},
   "source": [
    "After we've create the host, we can use `ChatOpenAI` to get the output.\n",
    "\n",
    "To combine llm with langchain, the office suggests us to use [LCEL (LangChain Expression Language)](https://python.langchain.com/v0.1/docs/expression_language/) to formualate the chain."
   ]
  },
  {
   "cell_type": "code",
   "execution_count": 22,
   "metadata": {},
   "outputs": [
    {
     "name": "stdout",
     "output_type": "stream",
     "text": [
      "Traditional Chinese translation:\n",
      "\n",
      "好久不見！今天真好！\n"
     ]
    }
   ],
   "source": [
    "from langchain_openai import ChatOpenAI\n",
    "from langchain_core.output_parsers import StrOutputParser\n",
    "\n",
    "llm = ChatOpenAI(\n",
    "    openai_api_key='None', \n",
    "    openai_api_base='http://0.0.0.0:8000/v1',\n",
    "    temperature=0.5,    \n",
    ")\n",
    "\n",
    "messages = [\n",
    "    (\n",
    "        \"system\",\n",
    "        \"You are a helpful assistant that translates English to Traditional Chinese. Translate the user sentence.\",\n",
    "    ),\n",
    "    (\"human\", \"Nice to meet you! What a wonderful day!\"),\n",
    "]\n",
    "\n",
    "# LECL example\n",
    "chain = (\n",
    "    llm # The OpenAI model\n",
    "    | StrOutputParser() # Parse the output of the OpenAI model\n",
    ")\n",
    "\n",
    "print(chain.invoke(messages))"
   ]
  },
  {
   "cell_type": "markdown",
   "metadata": {},
   "source": [
    "## Normal LLM versus RAG"
   ]
  },
  {
   "cell_type": "markdown",
   "metadata": {},
   "source": [
    "First, is the chain of normal LLM.\n",
    "\n",
    "We only apply template and output parser before and after the inference of llm."
   ]
  },
  {
   "cell_type": "code",
   "execution_count": 4,
   "metadata": {},
   "outputs": [],
   "source": [
    "from langchain_openai import ChatOpenAI\n",
    "from langchain_core.output_parsers import StrOutputParser\n",
    "from langchain_core.prompts import ChatPromptTemplate\n",
    "from langchain_core.runnables import RunnablePassthrough, RunnableLambda\n",
    "\n",
    "llm = ChatOpenAI(\n",
    "    openai_api_key='None', \n",
    "    openai_api_base='http://0.0.0.0:8000/v1',\n",
    "    temperature=0\n",
    ")\n",
    "\n",
    "template = \"\"\"Answer the following questions. If you don't know the answer, please say \"I don't know\".\n",
    "---\n",
    "Question {question}\n",
    "\"\"\"\n",
    "\n",
    "template = ChatPromptTemplate.from_template(template)\n",
    "\n",
    "def log_prompt(prompt):\n",
    "    # Print the prompt in green\n",
    "    print(\"\\033[92m{}\\033[00m\".format(prompt.to_string().replace(\"human: \", \"\")))  \n",
    "    return prompt\n",
    "\n",
    "normal_chain = (\n",
    "    {\"question\": RunnablePassthrough()}\n",
    "    | template\n",
    "    | RunnableLambda(log_prompt)\n",
    "    | llm\n",
    "    | StrOutputParser()\n",
    ")"
   ]
  },
  {
   "cell_type": "markdown",
   "metadata": {},
   "source": [
    "Second, is the implementation of RAG.\n",
    "\n",
    "Apart from what we've done, we also create a retriever when we get the user's input. \n",
    "\n",
    "Then we provide the infomation into the prompt, so that models can response better."
   ]
  },
  {
   "cell_type": "code",
   "execution_count": 24,
   "metadata": {},
   "outputs": [],
   "source": [
    "from langchain_openai import ChatOpenAI\n",
    "from langchain_core.output_parsers import StrOutputParser\n",
    "from langchain_core.prompts import ChatPromptTemplate\n",
    "from langchain_core.runnables import RunnablePassthrough, RunnableLambda\n",
    "\n",
    "retriever = vectordb.as_retriever()\n",
    "\n",
    "llm = ChatOpenAI(\n",
    "    openai_api_key='None', \n",
    "    openai_api_base='http://0.0.0.0:8000/v1',\n",
    "    temperature=0\n",
    ")\n",
    "\n",
    "template = \"\"\"Answer the following questions with the extra infomation below. If you don't know the answer, please say \"I don't know\".\n",
    "\n",
    "Extra information:\n",
    "```\n",
    "{context}\n",
    "```\n",
    "\n",
    "---\n",
    "Question {question}\n",
    "\"\"\"\n",
    "\n",
    "template = ChatPromptTemplate.from_template(template)\n",
    "\n",
    "def log_prompt(prompt):\n",
    "    # Print the prompt in green\n",
    "    print(\"\\033[92m{}\\033[00m\".format(prompt.to_string().replace(\"human: \", \"\")))  \n",
    "    return prompt\n",
    "\n",
    "def doc_format(docs):\n",
    "    return \"\\n\\n\".join(doc.page_content for doc in docs)\n",
    "\n",
    "rag_chain = (\n",
    "    {\"question\": RunnablePassthrough(), \"context\": retriever | doc_format} \n",
    "    | template\n",
    "    | RunnableLambda(log_prompt)\n",
    "    | llm\n",
    "    | StrOutputParser()\n",
    ")"
   ]
  },
  {
   "cell_type": "markdown",
   "metadata": {},
   "source": [
    "Let's take a look of the result:"
   ]
  },
  {
   "cell_type": "code",
   "execution_count": 25,
   "metadata": {},
   "outputs": [
    {
     "name": "stdout",
     "output_type": "stream",
     "text": [
      "\u001b[92mHuman: Answer the following questions. If you don't know the answer, please say \"I don't know\".\n",
      "---\n",
      "Question 請問大貨車載運劇團道具附載演員不得超過幾人呢？\n",
      "\u001b[00m\n",
      "I don't know\n"
     ]
    }
   ],
   "source": [
    "question = \"請問大貨車載運劇團道具附載演員不得超過幾人呢？\"\n",
    "print(normal_chain.invoke(question))"
   ]
  },
  {
   "cell_type": "code",
   "execution_count": 26,
   "metadata": {},
   "outputs": [
    {
     "name": "stdout",
     "output_type": "stream",
     "text": [
      "\u001b[92mHuman: Answer the following questions with the extra infomation below. If you don't know the answer, please say \"I don't know\".\n",
      "\n",
      "Extra information:\n",
      "```\n",
      "三、漁民攜帶大型捕魚工具，非客車所能容納者，搭載大貨車不得超過十六人，小貨車不得超過\n",
      "八人。\n",
      "四、大貨車載運劇團道具附載演員不得超過十六人，小貨車不得超過八人。\n",
      "\n",
      "三、漁民攜帶大型捕魚工具，非客車所能容納者，搭載大貨車不得超過十六人，小貨車不得超過\n",
      "八人。\n",
      "四、大貨車載運劇團道具附載演員不得超過十六人，小貨車不得超過八人。\n",
      "\n",
      "五、大貨車載運魚苗附載拍水人員不得超過十二人。\n",
      "六、大貨車載運棺柩附載人員不得超過十六人。\n",
      "七、大貨車載運神轎附載人員不得超過十六人。\n",
      "\n",
      "五、大貨車載運魚苗附載拍水人員不得超過十二人。\n",
      "六、大貨車載運棺柩附載人員不得超過十六人。\n",
      "七、大貨車載運神轎附載人員不得超過十六人。\n",
      "```\n",
      "\n",
      "---\n",
      "Question 請問大貨車載運劇團道具附載演員不得超過幾人呢？\n",
      "\u001b[00m\n",
      "根據提供的資訊，大貨車載運劇團道具附載演員不得超過十六人。\n"
     ]
    }
   ],
   "source": [
    "question = \"請問大貨車載運劇團道具附載演員不得超過幾人呢？\"\n",
    "print(rag_chain.invoke(question))"
   ]
  },
  {
   "cell_type": "markdown",
   "metadata": {},
   "source": [
    "## Test on traffic law in Taiwan"
   ]
  },
  {
   "cell_type": "code",
   "execution_count": 5,
   "metadata": {},
   "outputs": [],
   "source": [
    "import json\n",
    "from tqdm import tqdm\n",
    "with open(\"data/test.jsonl\", \"r\") as f:\n",
    "    data = [json.loads(line) for line in f]     "
   ]
  },
  {
   "cell_type": "markdown",
   "metadata": {},
   "source": [
    "Collect the output from nromal chain:"
   ]
  },
  {
   "cell_type": "code",
   "execution_count": 6,
   "metadata": {},
   "outputs": [
    {
     "name": "stderr",
     "output_type": "stream",
     "text": [
      "100%|██████████| 100/100 [01:13<00:00,  1.36it/s]\n"
     ]
    }
   ],
   "source": [
    "from langchain_openai import ChatOpenAI\n",
    "from langchain_core.output_parsers import StrOutputParser\n",
    "from langchain_core.prompts import ChatPromptTemplate\n",
    "from langchain_core.runnables import RunnablePassthrough, RunnableLambda\n",
    "\n",
    "llm = ChatOpenAI(\n",
    "    openai_api_key='None', \n",
    "    openai_api_base='http://0.0.0.0:8000/v1',\n",
    "    temperature=0\n",
    ")\n",
    "\n",
    "template = \"\"\"Answer the following questions. If you don't know the answer, please say \"I don't know\".\n",
    "---\n",
    "Question {question}\n",
    "\"\"\"\n",
    "\n",
    "template = ChatPromptTemplate.from_template(template)\n",
    "\n",
    "finetuned_chain = (\n",
    "    {\"question\": RunnablePassthrough()}\n",
    "    | template\n",
    "    | llm\n",
    "    | StrOutputParser()\n",
    ")\n",
    "\n",
    "finetuned_chain_results = []\n",
    "for item in tqdm(data):\n",
    "    result = finetuned_chain.invoke(item[\"question\"])\n",
    "    finetuned_chain_results.append(result)"
   ]
  },
  {
   "cell_type": "code",
   "execution_count": 7,
   "metadata": {},
   "outputs": [],
   "source": [
    "with open(\"output/finetuned_chain_ckpt_400_results.jsonl\", \"w\") as f:\n",
    "    for result, data in zip(finetuned_chain_results, data):\n",
    "        f.write(json.dumps({\"question\": data[\"question\"], \"output\": result}, ensure_ascii=False) + \"\\n\")"
   ]
  },
  {
   "cell_type": "code",
   "execution_count": 6,
   "metadata": {},
   "outputs": [
    {
     "name": "stderr",
     "output_type": "stream",
     "text": [
      "100%|██████████| 100/100 [02:42<00:00,  1.62s/it]\n"
     ]
    }
   ],
   "source": [
    "from langchain_openai import ChatOpenAI\n",
    "from langchain_core.output_parsers import StrOutputParser\n",
    "from langchain_core.prompts import ChatPromptTemplate\n",
    "from langchain_core.runnables import RunnablePassthrough, RunnableLambda\n",
    "\n",
    "retriever = vectordb.as_retriever()\n",
    "\n",
    "llm = ChatOpenAI(\n",
    "    openai_api_key='None', \n",
    "    openai_api_base='http://0.0.0.0:8000/v1',\n",
    "    temperature=0\n",
    ")\n",
    "\n",
    "template = \"\"\"Answer the following questions with the extra infomation below. If you don't know the answer, please say \"I don't know\".\n",
    "\n",
    "Extra information:\n",
    "```\n",
    "{context}\n",
    "```\n",
    "\n",
    "---\n",
    "Question {question}\n",
    "\"\"\"\n",
    "\n",
    "template = ChatPromptTemplate.from_template(template)\n",
    "\n",
    "def doc_format(docs):\n",
    "    return \"\\n\\n\".join(doc.page_content for doc in docs)\n",
    "\n",
    "rag_chain = (\n",
    "    {\"question\": RunnablePassthrough(), \"context\": retriever | doc_format} \n",
    "    | template\n",
    "    | llm\n",
    "    | StrOutputParser()\n",
    ")\n",
    "\n",
    "rag_chain_embedding_huggingface_results = []\n",
    "for item in tqdm(data):\n",
    "    result = rag_chain.invoke(item[\"question\"])\n",
    "    rag_chain_embedding_huggingface_results.append(result)"
   ]
  },
  {
   "cell_type": "code",
   "execution_count": 7,
   "metadata": {},
   "outputs": [],
   "source": [
    "with open(\"output/rag_chain_embedding_huggingface_results.jsonl\", \"w\") as f:\n",
    "    for result, data in zip(rag_chain_embedding_huggingface_results, data):\n",
    "        f.write(json.dumps({\"question\": data[\"question\"], \"output\": result}, ensure_ascii=False) + \"\\n\")"
   ]
  },
  {
   "cell_type": "code",
   "execution_count": 9,
   "metadata": {},
   "outputs": [
    {
     "name": "stdout",
     "output_type": "stream",
     "text": [
      "Total Accuracy: 50.00%\n"
     ]
    },
    {
     "data": {
      "image/png": "[encoded data removed]",
      "text/plain": [
       "<Figure size 1000x600 with 1 Axes>"
      ]
     },
     "metadata": {},
     "output_type": "display_data"
    }
   ],
   "source": [
    "import pandas as pd\n",
    "import matplotlib.pyplot as plt\n",
    "\n",
    "# Load the jsonl data into a pandas DataFrame\n",
    "data = [\n",
    "    {\"idx\": 1, \"correct\": 1}, {\"idx\": 2, \"correct\": 1}, {\"idx\": 3, \"correct\": 0},\n",
    "    {\"idx\": 4, \"correct\": 1}, {\"idx\": 5, \"correct\": 1}, {\"idx\": 6, \"correct\": 1},\n",
    "    {\"idx\": 7, \"correct\": 0}, {\"idx\": 8, \"correct\": 0}, {\"idx\": 9, \"correct\": 0},\n",
    "    {\"idx\": 10, \"correct\": 1}, {\"idx\": 11, \"correct\": 1}, {\"idx\": 12, \"correct\": 1},\n",
    "    {\"idx\": 13, \"correct\": 0}, {\"idx\": 14, \"correct\": 1}, {\"idx\": 15, \"correct\": 0},\n",
    "    {\"idx\": 16, \"correct\": 1}, {\"idx\": 17, \"correct\": 0}, {\"idx\": 18, \"correct\": 0},\n",
    "    {\"idx\": 19, \"correct\": 0}, {\"idx\": 20, \"correct\": 1}, {\"idx\": 21, \"correct\": 1},\n",
    "    {\"idx\": 22, \"correct\": 1}, {\"idx\": 23, \"correct\": 1}, {\"idx\": 24, \"correct\": 0},\n",
    "    {\"idx\": 25, \"correct\": 1}, {\"idx\": 26, \"correct\": 1}, {\"idx\": 27, \"correct\": 0},\n",
    "    {\"idx\": 28, \"correct\": 1}, {\"idx\": 29, \"correct\": 1}, {\"idx\": 30, \"correct\": 1},\n",
    "    {\"idx\": 31, \"correct\": 0}, {\"idx\": 32, \"correct\": 0}, {\"idx\": 33, \"correct\": 1},\n",
    "    {\"idx\": 34, \"correct\": 1}, {\"idx\": 35, \"correct\": 1}, {\"idx\": 36, \"correct\": 0},\n",
    "    {\"idx\": 37, \"correct\": 1}, {\"idx\": 38, \"correct\": 1}, {\"idx\": 39, \"correct\": 0},\n",
    "    {\"idx\": 40, \"correct\": 1}, {\"idx\": 41, \"correct\": 1}, {\"idx\": 42, \"correct\": 0},\n",
    "    {\"idx\": 43, \"correct\": 0}, {\"idx\": 44, \"correct\": 0}, {\"idx\": 45, \"correct\": 1},\n",
    "    {\"idx\": 46, \"correct\": 1}, {\"idx\": 47, \"correct\": 1}, {\"idx\": 48, \"correct\": 0},\n",
    "    {\"idx\": 49, \"correct\": 0}, {\"idx\": 50, \"correct\": 0}, {\"idx\": 51, \"correct\": 1},\n",
    "    {\"idx\": 52, \"correct\": 0}, {\"idx\": 53, \"correct\": 0}, {\"idx\": 54, \"correct\": 0},\n",
    "    {\"idx\": 55, \"correct\": 0}, {\"idx\": 56, \"correct\": 0}, {\"idx\": 57, \"correct\": 1},\n",
    "    {\"idx\": 58, \"correct\": 1}, {\"idx\": 59, \"correct\": 0}, {\"idx\": 60, \"correct\": 1},\n",
    "    {\"idx\": 61, \"correct\": 0}, {\"idx\": 62, \"correct\": 0}, {\"idx\": 63, \"correct\": 0},\n",
    "    {\"idx\": 64, \"correct\": 1}, {\"idx\": 65, \"correct\": 1}, {\"idx\": 66, \"correct\": 1},\n",
    "    {\"idx\": 67, \"correct\": 1}, {\"idx\": 68, \"correct\": 0}, {\"idx\": 69, \"correct\": 1},\n",
    "    {\"idx\": 70, \"correct\": 0}, {\"idx\": 71, \"correct\": 0}, {\"idx\": 72, \"correct\": 0},\n",
    "    {\"idx\": 73, \"correct\": 0}, {\"idx\": 74, \"correct\": 0}, {\"idx\": 75, \"correct\": 1},\n",
    "    {\"idx\": 76, \"correct\": 0}, {\"idx\": 77, \"correct\": 0}, {\"idx\": 78, \"correct\": 1},\n",
    "    {\"idx\": 79, \"correct\": 0}, {\"idx\": 80, \"correct\": 1}, {\"idx\": 81, \"correct\": 0},\n",
    "    {\"idx\": 82, \"correct\": 0}, {\"idx\": 83, \"correct\": 1}, {\"idx\": 84, \"correct\": 1},\n",
    "    {\"idx\": 85, \"correct\": 1}, {\"idx\": 86, \"correct\": 1}, {\"idx\": 87, \"correct\": 1},\n",
    "    {\"idx\": 88, \"correct\": 0}, {\"idx\": 89, \"correct\": 0}, {\"idx\": 90, \"correct\": 0},\n",
    "    {\"idx\": 91, \"correct\": 0}, {\"idx\": 92, \"correct\": 1}, {\"idx\": 93, \"correct\": 0},\n",
    "    {\"idx\": 94, \"correct\": 0}, {\"idx\": 95, \"correct\": 1}, {\"idx\": 96, \"correct\": 0},\n",
    "    {\"idx\": 97, \"correct\": 0}, {\"idx\": 98, \"correct\": 1}, {\"idx\": 99, \"correct\": 0},\n",
    "    {\"idx\": 100, \"correct\": 1}\n",
    "]\n",
    "\n",
    "df = pd.DataFrame(data)\n",
    "\n",
    "# Calculate the total accuracy\n",
    "total_accuracy = df['correct'].mean() * 100\n",
    "print(f\"Total Accuracy: {total_accuracy:.2f}%\")\n",
    "\n",
    "# Plot the accuracy of each problem\n",
    "plt.figure(figsize=(10, 6))\n",
    "plt.plot(df['idx'], df['correct'], marker='o', linestyle='-', color='b', label='Correctness')\n",
    "plt.xlabel('Problem Index')\n",
    "plt.ylabel('Correct (1) / Incorrect (0)')\n",
    "plt.title('Accuracy of Each Problem')\n",
    "plt.xticks(range(0, 101, 5))\n",
    "plt.yticks([0, 1])\n",
    "plt.grid(True)\n",
    "\n",
    "# Display total accuracy in the plot\n",
    "plt.text(50, 0.5, f'Total Accuracy: {total_accuracy:.2f}%', fontsize=12, color='red', ha='center')\n",
    "plt.legend()\n",
    "\n",
    "# Show the plot\n",
    "plt.tight_layout()\n",
    "plt.show()\n"
   ]
  }
 ],
 "metadata": {
  "kernelspec": {
   "display_name": "env",
   "language": "python",
   "name": "python3"
  },
  "language_info": {
   "codemirror_mode": {
    "name": "ipython",
    "version": 3
   },
   "file_extension": ".py",
   "mimetype": "text/x-python",
   "name": "python",
   "nbconvert_exporter": "python",
   "pygments_lexer": "ipython3",
   "version": "3.12.1"
  }
 },
 "nbformat": 4,
 "nbformat_minor": 2
}
