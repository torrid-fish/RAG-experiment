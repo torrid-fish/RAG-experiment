{
 "cells": [
  {
   "cell_type": "markdown",
   "metadata": {},
   "source": [
    "# Preprocess data into Vector DataBase"
   ]
  },
  {
   "cell_type": "markdown",
   "metadata": {},
   "source": [
    "First step is to process data into vectordb, so that we can create a retirever to load the data."
   ]
  },
  {
   "cell_type": "markdown",
   "metadata": {},
   "source": [
    "### Load the data\n",
    "There are many loaders being supported in langchain. I choose PDF loader here."
   ]
  },
  {
   "cell_type": "code",
   "execution_count": 2,
   "metadata": {},
   "outputs": [],
   "source": [
    "from langchain.document_loaders import PyMuPDFLoader\n",
    "path=\"data/道路交通安全規則.pdf\"\n",
    "loader = PyMuPDFLoader(path)\n",
    "pdf_data = loader.load()\n",
    "\n",
    "# Use the RecursiveCharacterTextSplitter to split the text into chunks\n",
    "from langchain.text_splitter import RecursiveCharacterTextSplitter\n",
    "text_splitter = RecursiveCharacterTextSplitter(chunk_size=100, chunk_overlap=5)\n",
    "all_splits = text_splitter.split_documents(pdf_data)"
   ]
  },
  {
   "cell_type": "markdown",
   "metadata": {},
   "source": [
    "### Embedding Model"
   ]
  },
  {
   "cell_type": "markdown",
   "metadata": {},
   "source": [
    "There are many embedding models, I choose two embedding models to conduct the experiment:\n",
    "- `text-embedding-3-small`: Charged\n",
    "- `all-MiniLM-L6-v2`: Free"
   ]
  },
  {
   "cell_type": "code",
   "execution_count": 3,
   "metadata": {},
   "outputs": [
    {
     "name": "stderr",
     "output_type": "stream",
     "text": [
      "/tmp/ipykernel_4045960/2053362645.py:8: LangChainDeprecationWarning: The class `OpenAIEmbeddings` was deprecated in LangChain 0.0.9 and will be removed in 1.0. An updated version of the class exists in the langchain-openai package and should be used instead. To use it run `pip install -U langchain-openai` and import as `from langchain_openai import OpenAIEmbeddings`.\n",
      "  embedding = OpenAIEmbeddings(model=\"text-embedding-3-small\")\n"
     ]
    }
   ],
   "source": [
    "embedding_name = \"text-embedding-3-small\"\n",
    "\n",
    "if embedding_name == \"text-embedding-3-small\":\n",
    "    from key import API_KEY\n",
    "    from langchain.embeddings import OpenAIEmbeddings\n",
    "    import os\n",
    "    os.environ[\"OPENAI_API_KEY\"] = API_KEY\n",
    "    embedding = OpenAIEmbeddings(model=\"text-embedding-3-small\")\n",
    "elif embedding_name == \"all-MiniLM-L6-v2\":\n",
    "    from langchain.embeddings import HuggingFaceEmbeddings\n",
    "    model_name = \"sentence-transformers/all-MiniLM-L6-v2\"\n",
    "    model_kwargs = {'device': 'cpu'}\n",
    "    embedding = HuggingFaceEmbeddings(model_name=model_name,\n",
    "                                    model_kwargs=model_kwargs)\n",
    "else:\n",
    "    raise NotImplementedError"
   ]
  },
  {
   "cell_type": "markdown",
   "metadata": {},
   "source": [
    "### Create the vector database"
   ]
  },
  {
   "cell_type": "code",
   "execution_count": 4,
   "metadata": {},
   "outputs": [],
   "source": [
    "from langchain.vectorstores import Chroma\n",
    "persist_directory = 'db'\n",
    "vectordb = Chroma.from_documents(\n",
    "    documents=all_splits, \n",
    "    embedding=embedding, \n",
    "    persist_directory=persist_directory\n",
    ")"
   ]
  },
  {
   "cell_type": "markdown",
   "metadata": {},
   "source": [
    "## Language Model\n",
    "Here we use the api service provided by `llamafactory-cli` to hold our LLM.\n",
    "\n",
    "Use the following command to setup the service:\n",
    "```\n",
    "API_PORT=8000 llamafactory-cli api model_info.yaml\n",
    "```"
   ]
  },
  {
   "cell_type": "markdown",
   "metadata": {},
   "source": [
    "After we've create the host, we can use `ChatOpenAI` to get the output.\n",
    "\n",
    "To combine llm with langchain, the office suggests us to use [LCEL (LangChain Expression Language)](https://python.langchain.com/v0.1/docs/expression_language/) to formualate the chain."
   ]
  },
  {
   "cell_type": "code",
   "execution_count": 5,
   "metadata": {},
   "outputs": [
    {
     "name": "stdout",
     "output_type": "stream",
     "text": [
      "你好！真是一個美好的一天！\n"
     ]
    }
   ],
   "source": [
    "from langchain_openai import ChatOpenAI\n",
    "from langchain_core.output_parsers import StrOutputParser\n",
    "\n",
    "llm = ChatOpenAI(\n",
    "    openai_api_key='None', \n",
    "    openai_api_base='http://0.0.0.0:8000/v1',\n",
    "    temperature=0.5,    \n",
    ")\n",
    "\n",
    "messages = [\n",
    "    (\n",
    "        \"system\",\n",
    "        \"You are a helpful assistant that translates English to Traditional Chinese. Translate the user sentence.\",\n",
    "    ),\n",
    "    (\"human\", \"Nice to meet you! What a wonderful day!\"),\n",
    "]\n",
    "\n",
    "# LECL example\n",
    "chain = (\n",
    "    llm # The OpenAI model\n",
    "    | StrOutputParser() # Parse the output of the OpenAI model\n",
    ")\n",
    "\n",
    "print(chain.invoke(messages))"
   ]
  },
  {
   "cell_type": "markdown",
   "metadata": {},
   "source": [
    "## Normal LLM versus RAG"
   ]
  },
  {
   "cell_type": "markdown",
   "metadata": {},
   "source": [
    "First, is the chain of normal LLM.\n",
    "\n",
    "We only apply template and output parser before and after the inference of llm."
   ]
  },
  {
   "cell_type": "code",
   "execution_count": 6,
   "metadata": {},
   "outputs": [],
   "source": [
    "from langchain_openai import ChatOpenAI\n",
    "from langchain_core.output_parsers import StrOutputParser\n",
    "from langchain_core.prompts import ChatPromptTemplate\n",
    "from langchain_core.runnables import RunnablePassthrough, RunnableLambda\n",
    "\n",
    "llm = ChatOpenAI(\n",
    "    openai_api_key='None', \n",
    "    openai_api_base='http://0.0.0.0:8000/v1',\n",
    "    temperature=0\n",
    ")\n",
    "\n",
    "template = \"\"\"Answer the following questions. If you don't know the answer, please say \"I don't know\".\n",
    "---\n",
    "Question {question}\n",
    "\"\"\"\n",
    "\n",
    "template = ChatPromptTemplate.from_template(template)\n",
    "\n",
    "def log_prompt(prompt):\n",
    "    # Print the prompt in green\n",
    "    print(\"\\033[92m{}\\033[00m\".format(prompt.to_string().replace(\"Human: \", \"\")))  \n",
    "    return prompt\n",
    "\n",
    "normal_chain = (\n",
    "    {\"question\": RunnablePassthrough()}\n",
    "    | template\n",
    "    | RunnableLambda(log_prompt)\n",
    "    | llm\n",
    "    | StrOutputParser()\n",
    ")"
   ]
  },
  {
   "cell_type": "markdown",
   "metadata": {},
   "source": [
    "Second, is the implementation of RAG.\n",
    "\n",
    "Apart from what we've done, we also create a retriever when we get the user's input. \n",
    "\n",
    "Then we provide the infomation into the prompt, so that models can response better."
   ]
  },
  {
   "cell_type": "code",
   "execution_count": 7,
   "metadata": {},
   "outputs": [],
   "source": [
    "from langchain_openai import ChatOpenAI\n",
    "from langchain_core.output_parsers import StrOutputParser\n",
    "from langchain_core.prompts import ChatPromptTemplate\n",
    "from langchain_core.runnables import RunnablePassthrough, RunnableLambda\n",
    "\n",
    "retriever = vectordb.as_retriever()\n",
    "\n",
    "llm = ChatOpenAI(\n",
    "    openai_api_key='None', \n",
    "    openai_api_base='http://0.0.0.0:8000/v1',\n",
    "    temperature=0\n",
    ")\n",
    "\n",
    "template = \"\"\"Answer the following questions with the extra infomation below. If you don't know the answer, please say \"I don't know\".\n",
    "\n",
    "Extra information:\n",
    "```\n",
    "{context}\n",
    "```\n",
    "\n",
    "---\n",
    "Question {question}\n",
    "\"\"\"\n",
    "\n",
    "template = ChatPromptTemplate.from_template(template)\n",
    "\n",
    "def log_prompt(prompt):\n",
    "    # Print the prompt in green\n",
    "    print(\"\\033[92m{}\\033[00m\".format(prompt.to_string().replace(\"Human: \", \"\")))  \n",
    "    return prompt\n",
    "\n",
    "def doc_format(docs):\n",
    "    return \"\\n\\n\".join(doc.page_content for doc in docs)\n",
    "\n",
    "rag_chain = (\n",
    "    {\"question\": RunnablePassthrough(), \"context\": retriever | doc_format} \n",
    "    | template\n",
    "    | RunnableLambda(log_prompt)\n",
    "    | llm\n",
    "    | StrOutputParser()\n",
    ")"
   ]
  },
  {
   "cell_type": "markdown",
   "metadata": {},
   "source": [
    "Let's take a look of the result:"
   ]
  },
  {
   "cell_type": "code",
   "execution_count": 10,
   "metadata": {},
   "outputs": [],
   "source": [
    "question = \"行車的時候可以使用手機嗎？\""
   ]
  },
  {
   "cell_type": "code",
   "execution_count": 11,
   "metadata": {},
   "outputs": [
    {
     "name": "stdout",
     "output_type": "stream",
     "text": [
      "\u001b[92mAnswer the following questions. If you don't know the answer, please say \"I don't know\".\n",
      "---\n",
      "Question 行車的時候可以使用手機嗎？\n",
      "\u001b[00m\n",
      "I don't know\n"
     ]
    }
   ],
   "source": [
    "print(normal_chain.invoke(question))"
   ]
  },
  {
   "cell_type": "code",
   "execution_count": 12,
   "metadata": {},
   "outputs": [
    {
     "name": "stdout",
     "output_type": "stream",
     "text": [
      "\u001b[92mAnswer the following questions with the extra infomation below. If you don't know the answer, please say \"I don't know\".\n",
      "\n",
      "Extra information:\n",
      "```\n",
      "2   慢車行駛於道路時，駕駛人不得以手持方式使用行動電話、電腦或其他相類功能裝置進行撥接、\n",
      "通話、數據通訊或其他有礙駕駛安全之行為。\n",
      "第 121 條\n",
      "（刪除）\n",
      "第 122 條\n",
      "\n",
      "2   慢車行駛於道路時，駕駛人不得以手持方式使用行動電話、電腦或其他相類功能裝置進行撥接、\n",
      "通話、數據通訊或其他有礙駕駛安全之行為。\n",
      "第 121 條\n",
      "（刪除）\n",
      "第 122 條\n",
      "\n",
      "並應遵守下列規定：\n",
      "一、禁止操作或觀看娛樂性顯示設備。\n",
      "二、禁止操作行車輔助顯示設備。\n",
      "三、禁止以手持方式使用行動電話、電腦或其他相類功能裝置進行撥接、通話、數據通訊或其他\n",
      "有礙駕駛安全之行為。\n",
      "\n",
      "並應遵守下列規定：\n",
      "一、禁止操作或觀看娛樂性顯示設備。\n",
      "二、禁止操作行車輔助顯示設備。\n",
      "三、禁止以手持方式使用行動電話、電腦或其他相類功能裝置進行撥接、通話、數據通訊或其他\n",
      "有礙駕駛安全之行為。\n",
      "```\n",
      "\n",
      "---\n",
      "Question 行車的時候可以使用手機嗎？\n",
      "\u001b[00m\n",
      "不可以。根據提供的資訊，駕駛人在行駛慢車時不得以手持方式使用行動電話、電腦或其他相類功能裝置進行撥接、通話、數據通訊或其他有礙駕駛安全之行為。\n"
     ]
    }
   ],
   "source": [
    "print(rag_chain.invoke(question))"
   ]
  },
  {
   "cell_type": "markdown",
   "metadata": {},
   "source": [
    "## Test on traffic law in Taiwan"
   ]
  },
  {
   "cell_type": "code",
   "execution_count": 5,
   "metadata": {},
   "outputs": [],
   "source": [
    "import json\n",
    "from tqdm import tqdm\n",
    "with open(\"data/test.jsonl\", \"r\") as f:\n",
    "    data = [json.loads(line) for line in f]     "
   ]
  },
  {
   "cell_type": "markdown",
   "metadata": {},
   "source": [
    "Collect the output from normal chain / finetuned chain:"
   ]
  },
  {
   "cell_type": "code",
   "execution_count": 6,
   "metadata": {},
   "outputs": [
    {
     "name": "stderr",
     "output_type": "stream",
     "text": [
      "100%|██████████| 100/100 [01:13<00:00,  1.36it/s]\n"
     ]
    }
   ],
   "source": [
    "\n",
    "from langchain_openai import ChatOpenAI\n",
    "from langchain_core.output_parsers import StrOutputParser\n",
    "from langchain_core.prompts import ChatPromptTemplate\n",
    "from langchain_core.runnables import RunnablePassthrough, RunnableLambda\n",
    "\n",
    "# The backbone model is either base model or finetuned model\n",
    "llm = ChatOpenAI(\n",
    "    openai_api_key='None', \n",
    "    openai_api_base='http://0.0.0.0:8000/v1',\n",
    "    temperature=0\n",
    ")\n",
    "\n",
    "template = \"\"\"Answer the following questions. If you don't know the answer, please say \"I don't know\".\n",
    "---\n",
    "Question {question}\n",
    "\"\"\"\n",
    "\n",
    "template = ChatPromptTemplate.from_template(template)\n",
    "\n",
    "finetuned_chain = (\n",
    "    {\"question\": RunnablePassthrough()}\n",
    "    | template\n",
    "    | llm\n",
    "    | StrOutputParser()\n",
    ")\n",
    "\n",
    "finetuned_chain_results = []\n",
    "for item in tqdm(data):\n",
    "    result = finetuned_chain.invoke(item[\"question\"])\n",
    "    finetuned_chain_results.append(result)"
   ]
  },
  {
   "cell_type": "code",
   "execution_count": 7,
   "metadata": {},
   "outputs": [],
   "source": [
    "with open(\"output/finetuned_chain_ckpt_400_results.jsonl\", \"w\") as f:\n",
    "    for result, data in zip(finetuned_chain_results, data):\n",
    "        f.write(json.dumps({\"question\": data[\"question\"], \"output\": result}, ensure_ascii=False) + \"\\n\")"
   ]
  },
  {
   "cell_type": "markdown",
   "metadata": {},
   "source": [
    "Collect output from RAG model:"
   ]
  },
  {
   "cell_type": "code",
   "execution_count": 6,
   "metadata": {},
   "outputs": [
    {
     "name": "stderr",
     "output_type": "stream",
     "text": [
      "100%|██████████| 100/100 [02:42<00:00,  1.62s/it]\n"
     ]
    }
   ],
   "source": [
    "from langchain_openai import ChatOpenAI\n",
    "from langchain_core.output_parsers import StrOutputParser\n",
    "from langchain_core.prompts import ChatPromptTemplate\n",
    "from langchain_core.runnables import RunnablePassthrough, RunnableLambda\n",
    "\n",
    "# The RAG one, the only difference is the embedding model in the vectorstore\n",
    "retriever = vectordb.as_retriever()\n",
    "\n",
    "llm = ChatOpenAI(\n",
    "    openai_api_key='None', \n",
    "    openai_api_base='http://0.0.0.0:8000/v1',\n",
    "    temperature=0\n",
    ")\n",
    "\n",
    "template = \"\"\"Answer the following questions with the extra infomation below. If you don't know the answer, please say \"I don't know\".\n",
    "\n",
    "Extra information:\n",
    "```\n",
    "{context}\n",
    "```\n",
    "\n",
    "---\n",
    "Question {question}\n",
    "\"\"\"\n",
    "\n",
    "template = ChatPromptTemplate.from_template(template)\n",
    "\n",
    "def doc_format(docs):\n",
    "    return \"\\n\\n\".join(doc.page_content for doc in docs)\n",
    "\n",
    "rag_chain = (\n",
    "    {\"question\": RunnablePassthrough(), \"context\": retriever | doc_format} \n",
    "    | template\n",
    "    | llm\n",
    "    | StrOutputParser()\n",
    ")\n",
    "\n",
    "rag_chain_embedding_huggingface_results = []\n",
    "for item in tqdm(data):\n",
    "    result = rag_chain.invoke(item[\"question\"])\n",
    "    rag_chain_embedding_huggingface_results.append(result)"
   ]
  },
  {
   "cell_type": "code",
   "execution_count": 7,
   "metadata": {},
   "outputs": [],
   "source": [
    "with open(\"output/rag_chain_embedding_huggingface_results.jsonl\", \"w\") as f:\n",
    "    for result, data in zip(rag_chain_embedding_huggingface_results, data):\n",
    "        f.write(json.dumps({\"question\": data[\"question\"], \"output\": result}, ensure_ascii=False) + \"\\n\")"
   ]
  },
  {
   "cell_type": "markdown",
   "metadata": {},
   "source": [
    "### Calcuate performance"
   ]
  },
  {
   "cell_type": "code",
   "execution_count": 38,
   "metadata": {},
   "outputs": [
    {
     "name": "stdout",
     "output_type": "stream",
     "text": [
      "log/scores_finetuned_chain_ckpt_200_results.jsonl 50.0%\n",
      "log/scores_finetuned_chain_ckpt_400_results.jsonl 49.0%\n",
      "log/scores_normal_chain_results.jsonl 19.0%\n",
      "log/scores_rag_chain_embedding_huggingface_results.jsonl 31.0%\n",
      "log/scores_rag_chain_embedding_openai_results.jsonl 71.0%\n"
     ]
    }
   ],
   "source": [
    "import pandas as pd\n",
    "import matplotlib.pyplot as plt\n",
    "import os\n",
    "\n",
    "files = [f\"log/{file}\" for file in os.listdir(\"log\") if file.endswith(\".jsonl\")]\n",
    "files.sort()\n",
    "\n",
    "for file in files:\n",
    "    with open(file, \"r\") as f:\n",
    "        data = [json.loads(line) for line in f]\n",
    "        \n",
    "        # Calculate the accuracy of each result\n",
    "        accuracy = sum([int(d[\"correct\"]) for d in data]) / len(data)\n",
    "        \n",
    "        print(f\"{file} {accuracy * 100}%\")\n",
    "        "
   ]
  }
 ],
 "metadata": {
  "kernelspec": {
   "display_name": "env",
   "language": "python",
   "name": "python3"
  },
  "language_info": {
   "codemirror_mode": {
    "name": "ipython",
    "version": 3
   },
   "file_extension": ".py",
   "mimetype": "text/x-python",
   "name": "python",
   "nbconvert_exporter": "python",
   "pygments_lexer": "ipython3",
   "version": "3.12.1"
  }
 },
 "nbformat": 4,
 "nbformat_minor": 2
}
